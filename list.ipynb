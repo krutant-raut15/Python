{
 "cells": [
  {
   "cell_type": "markdown",
   "id": "bc864b5f",
   "metadata": {},
   "source": [
    "hey we are start a company\n"
   ]
  },
  {
   "cell_type": "markdown",
   "id": "724d9db2",
   "metadata": {},
   "source": []
  }
 ],
 "metadata": {
  "language_info": {
   "name": "python"
  }
 },
 "nbformat": 4,
 "nbformat_minor": 5
}
